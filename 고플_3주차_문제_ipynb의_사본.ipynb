{
  "nbformat": 4,
  "nbformat_minor": 0,
  "metadata": {
    "colab": {
      "name": "고플 3주차 문제.ipynb의 사본",
      "provenance": [],
      "collapsed_sections": [],
      "include_colab_link": true
    },
    "kernelspec": {
      "name": "python3",
      "display_name": "Python 3"
    }
  },
  "cells": [
    {
      "cell_type": "markdown",
      "metadata": {
        "id": "view-in-github",
        "colab_type": "text"
      },
      "source": [
        "<a href=\"https://colab.research.google.com/github/LeeJoEun-01/WEB1_html/blob/main/%EA%B3%A0%ED%94%8C_3%EC%A3%BC%EC%B0%A8_%EB%AC%B8%EC%A0%9C_ipynb%EC%9D%98_%EC%82%AC%EB%B3%B8.ipynb\" target=\"_parent\"><img src=\"https://colab.research.google.com/assets/colab-badge.svg\" alt=\"Open In Colab\"/></a>"
      ]
    },
    {
      "cell_type": "code",
      "metadata": {
        "id": "EfeAq1IHkUhK",
        "colab": {
          "base_uri": "https://localhost:8080/"
        },
        "outputId": "17eba851-a8a0-4677-e86a-a9cb929d289e"
      },
      "source": [
        "#1번 : 단수를 입력하면 해당 구구단을 출력하도록 하는 프로그램을 만들어라.\n",
        "\n",
        "i=int(input(\"몇 단을 출력하시겠습니까?\"))\n",
        "\n",
        "for j in range(1,10):\n",
        "  print(i, \"*\", j, \"=\", i*j)\n"
      ],
      "execution_count": null,
      "outputs": [
        {
          "output_type": "stream",
          "text": [
            "몇 단을 출력하시겠습니까?3\n",
            "3 * 1 = 3\n",
            "3 * 2 = 6\n",
            "3 * 3 = 9\n",
            "3 * 4 = 12\n",
            "3 * 5 = 15\n",
            "3 * 6 = 18\n",
            "3 * 7 = 21\n",
            "3 * 8 = 24\n",
            "3 * 9 = 27\n"
          ],
          "name": "stdout"
        }
      ]
    },
    {
      "cell_type": "code",
      "metadata": {
        "id": "syOSDjD30D3r",
        "colab": {
          "base_uri": "https://localhost:8080/"
        },
        "outputId": "fa1ae3cd-9cf9-47cb-b03c-ed6758e56d57"
      },
      "source": [
        "#2번: 숫자를 입력받고 입력받은 숫자의 각자리 숫자의 합을 출력해라 (반복문 사용 필수)\n",
        "\n",
        "num=int(input(\"숫자를 입력해주세요\"))\n",
        "sum = 0\n",
        "s_num = str(num)\n",
        "\n",
        "for i in range(len(num2)):\n",
        "  sum += int(s_num[i])\n",
        "\n",
        "print(sum)\n"
      ],
      "execution_count": null,
      "outputs": [
        {
          "output_type": "stream",
          "text": [
            "숫자를 입력해주세요12345\n",
            "15\n"
          ],
          "name": "stdout"
        }
      ]
    },
    {
      "cell_type": "code",
      "metadata": {
        "id": "GLKqG6L10EAk",
        "colab": {
          "base_uri": "https://localhost:8080/"
        },
        "outputId": "8b375708-2d4f-48e3-fb7b-bc4cd375cc0e"
      },
      "source": [
        "#3번-1:다음을 출력하라.\n",
        "# *****\n",
        "# ****\n",
        "# ***\n",
        "# **\n",
        "# *\n",
        "\n",
        "#3번-2: 다음을 출력하라.\n",
        "#     *\n",
        "#    ***\n",
        "#   *****\n",
        "#  *******\n",
        "# *********\n",
        "\n",
        "for i in range(5,0,-1):\n",
        "  print(\"*\"*i)\n",
        "\n",
        "for x in range(1,6):\n",
        "  for y in range(6-x):\n",
        "    print(\" \", end=\"\")\n",
        "  for y in range(2*x-1):\n",
        "    print(\"*\", end=\"\")\n",
        "  print(\"\")\n",
        "    "
      ],
      "execution_count": null,
      "outputs": [
        {
          "output_type": "stream",
          "text": [
            "*****\n",
            "****\n",
            "***\n",
            "**\n",
            "*\n",
            "     *\n",
            "    ***\n",
            "   *****\n",
            "  *******\n",
            " *********\n"
          ],
          "name": "stdout"
        }
      ]
    },
    {
      "cell_type": "code",
      "metadata": {
        "id": "cBQI8voj0EDI",
        "colab": {
          "base_uri": "https://localhost:8080/"
        },
        "outputId": "1b268f77-5904-4e0b-e51d-e9096437fdc8"
      },
      "source": [
        "#4번: 1부터 100사이의 숫자 중 3의 배수의 총합을 for 문을 이용해 출력하십시오.\n",
        "\n",
        "num = 0\n",
        "\n",
        "for i in range(1,101):\n",
        "  if i % 3 == 0:\n",
        "    num = num +i\n",
        "\n",
        "print(num)"
      ],
      "execution_count": null,
      "outputs": [
        {
          "output_type": "stream",
          "text": [
            "1683\n"
          ],
          "name": "stdout"
        }
      ]
    },
    {
      "cell_type": "code",
      "metadata": {
        "id": "zmOBhzU30LHr",
        "colab": {
          "base_uri": "https://localhost:8080/"
        },
        "outputId": "9b772bed-1432-4702-9633-55d40dbfb61a"
      },
      "source": [
        "#5번: 다음의 리스트 요소중에서 가장 큰 값과 두번째로 큰 값을 찾아 출력하세요.\n",
        "a=[10, 20, 30, 40, 5, 4 ,3, 99, 55, 100, 42, 100, 0, 105, 2, 11]\n",
        "\n",
        "max = a[0]\n",
        "max_2 = a[0]\n",
        "\n",
        "for i in range(0,16):\n",
        "  if a[i] >= max:\n",
        "    max = a[i]\n",
        "  \n",
        "for i in range(0,16):\n",
        "  if a[i] != max:\n",
        "    if a[i] >= max_2:\n",
        "      max_2 = a[i] \n",
        "\n",
        "print(\"가장 큰 값:\", max, \"두번째로 큰 값:\", max_2)\n",
        "  \n"
      ],
      "execution_count": null,
      "outputs": [
        {
          "output_type": "stream",
          "text": [
            "가장 큰 값: 105 두번째로 큰 값: 100\n"
          ],
          "name": "stdout"
        }
      ]
    },
    {
      "cell_type": "code",
      "metadata": {
        "id": "TjfEhF78yY6D",
        "colab": {
          "base_uri": "https://localhost:8080/"
        },
        "outputId": "26549388-54ce-4416-cc34-6c6417de2b27"
      },
      "source": [
        "#6번: 다음 리스트 요소중에서 70이상의 숫자는 b라는 리스트에 70미만의 숫자는 c라는 리스트에 담으세요.\n",
        "a=[10, 20, 30, 40, 5, 4 ,3, 99, 55, 100, 42, 100, 0, 105, 2, 11]\n",
        "\n",
        "b = []\n",
        "c = []\n",
        "\n",
        "for i in range(0,16):\n",
        "  if a[i] >= 70:\n",
        "    b.append(a[i])\n",
        "  else :\n",
        "    c.append(a[i])\n",
        "\n",
        "print(\"b = \", b, \", \", \"c = \", c)"
      ],
      "execution_count": null,
      "outputs": [
        {
          "output_type": "stream",
          "text": [
            "b =  [99, 100, 100, 105] ,  c =  [10, 20, 30, 40, 5, 4, 3, 55, 42, 0, 2, 11]\n"
          ],
          "name": "stdout"
        }
      ]
    },
    {
      "cell_type": "code",
      "metadata": {
        "id": "qxNloHENyq1W",
        "colab": {
          "base_uri": "https://localhost:8080/"
        },
        "outputId": "b434255b-7013-4ac2-de6e-fcbc6fb3ae08"
      },
      "source": [
        "#7번: 교재 178쪽 숫자 퀴즈프로그램\n",
        "# 숫자 맞추기(up and down)이다. 숫자를 계속 입력받아 맞출때까지 걸리는 시도횟수를 출력하는 프로그램을 만들어라\n",
        "import random\n",
        "\n",
        "tries=0\n",
        "guess=0\n",
        "answer=random.randint(1,100)\n",
        "\n",
        "print(\"1부터 100사이의 숫자를 맞춰라\")\n",
        "\n",
        "while True:\n",
        "  if guess != answer:\n",
        "    guess = int(input(\"숫자를 입력하세요\"))\n",
        "    tries+=1\n",
        "    if guess < answer:\n",
        "      print(\"낮습니다\")\n",
        "    elif guess > answer:\n",
        "      print(\"높습니다\")\n",
        "  else:\n",
        "    break\n",
        "\n",
        "if guess == answer:\n",
        "  print(\"축하합니다. 시도횟수=\", tries, \"정답은 \",answer)\n",
        "\n"
      ],
      "execution_count": null,
      "outputs": [
        {
          "output_type": "stream",
          "text": [
            "1부터 100사이의 숫자를 맞춰라\n",
            "숫자를 입력하세요50\n",
            "높습니다\n",
            "숫자를 입력하세요40\n",
            "높습니다\n",
            "숫자를 입력하세요30\n",
            "높습니다\n",
            "숫자를 입력하세요20\n",
            "낮습니다\n",
            "숫자를 입력하세요25\n",
            "낮습니다\n",
            "숫자를 입력하세요27\n",
            "낮습니다\n",
            "숫자를 입력하세요29\n",
            "축하합니다. 시도횟수= 7 정답은  29\n"
          ],
          "name": "stdout"
        }
      ]
    },
    {
      "cell_type": "code",
      "metadata": {
        "id": "bHaLfq9Pf-5_",
        "colab": {
          "base_uri": "https://localhost:8080/"
        },
        "outputId": "c842e749-eab9-4aeb-8341-bef4a30b445d"
      },
      "source": [
        "#8번 1X2+2X3+3X4+...+9X10 을 구하라\n",
        "\n",
        "sum = 0\n",
        "num = 0\n",
        "\n",
        "for i in range(1,10):\n",
        "  num = i*(i+1)\n",
        "  sum = sum + num\n",
        "\n",
        "print(sum)\n"
      ],
      "execution_count": null,
      "outputs": [
        {
          "output_type": "stream",
          "text": [
            "330\n"
          ],
          "name": "stdout"
        }
      ]
    },
    {
      "cell_type": "code",
      "metadata": {
        "id": "NToCKz13tKze"
      },
      "source": [
        ""
      ],
      "execution_count": null,
      "outputs": []
    }
  ]
}